{
 "cells": [
  {
   "cell_type": "code",
   "execution_count": 1,
   "id": "835b6358",
   "metadata": {},
   "outputs": [
    {
     "data": {
      "text/plain": [
       "<torch._C.Generator at 0x7ffd3090e350>"
      ]
     },
     "execution_count": 1,
     "metadata": {},
     "output_type": "execute_result"
    }
   ],
   "source": [
    "\n",
    "\n",
    "%matplotlib inline\n",
    "\n",
    "import matplotlib.pyplot as plt\n",
    "\n",
    "import torch\n",
    "import torchvision\n",
    "import numpy as np\n",
    "import torch.nn as nn\n",
    "torch.manual_seed(0)"
   ]
  },
  {
   "cell_type": "code",
   "execution_count": 4,
   "id": "bc88120e",
   "metadata": {},
   "outputs": [
    {
     "name": "stdout",
     "output_type": "stream",
     "text": [
      "(1000, 28, 28) (1000,)\n",
      "(100, 28, 28) (100,)\n"
     ]
    }
   ],
   "source": [
    "# Load MNIST Dataset in Numpy\n",
    "\n",
    "# 1000 training samples where each sample feature is a greyscale image with shape (28, 28)\n",
    "# 1000 training targets where each target is an integer indicating the true digit\n",
    "mnist_train_features = np.load('mnist_train_features.npy') \n",
    "mnist_train_targets = np.load('mnist_train_targets.npy')\n",
    "\n",
    "# 100 testing samples + targets\n",
    "mnist_test_features = np.load('mnist_test_features.npy')\n",
    "mnist_test_targets = np.load('mnist_test_targets.npy')\n",
    "\n",
    "# Print the dimensions of training sample features/targets\n",
    "print(mnist_train_features.shape, mnist_train_targets.shape)\n",
    "# Print the dimensions of testing sample features/targets\n",
    "print(mnist_test_features.shape, mnist_test_targets.shape)"
   ]
  },
  {
   "cell_type": "code",
   "execution_count": 5,
   "id": "b08ed1a5",
   "metadata": {},
   "outputs": [
    {
     "data": {
      "text/plain": [
       "<matplotlib.image.AxesImage at 0x7ffd54ca3160>"
      ]
     },
     "execution_count": 5,
     "metadata": {},
     "output_type": "execute_result"
    },
    {
     "data": {
      "image/png": "[encoded data removed]",
      "text/plain": [
       "<Figure size 1000x1000 with 3 Axes>"
      ]
     },
     "metadata": {},
     "output_type": "display_data"
    }
   ],
   "source": [
    "\n",
    "\n",
    "plt.figure(figsize = (10, 10))\n",
    "\n",
    "plt.subplot(1,3,1)\n",
    "plt.imshow(mnist_train_features[0], cmap = 'Greys')\n",
    "\n",
    "plt.subplot(1,3,2)\n",
    "plt.imshow(mnist_train_features[1], cmap = 'Greys')\n",
    "\n",
    "plt.subplot(1,3,3)\n",
    "plt.imshow(mnist_train_features[2], cmap = 'Greys')"
   ]
  },
  {
   "cell_type": "code",
   "execution_count": 6,
   "id": "bbf4fc7e",
   "metadata": {},
   "outputs": [
    {
     "name": "stdout",
     "output_type": "stream",
     "text": [
      "(1000, 784) (100, 784)\n"
     ]
    }
   ],
   "source": [
    "\n",
    "\n",
    "#reshaping the arrays by taking the product of the last two dimensions of the array and making sure \n",
    "#the products are all integers before reshaping the array into a flattened 2d array\n",
    "\n",
    "mnist_train_features = mnist_train_features.reshape((-1, int(np.prod(mnist_train_features.shape[-2:]))))\n",
    "mnist_test_features = mnist_test_features.reshape((-1, int(np.prod(mnist_test_features.shape[-2:]))))\n",
    "\n",
    "print(mnist_train_features.shape, mnist_test_features.shape)"
   ]
  },
  {
   "cell_type": "code",
   "execution_count": 7,
   "id": "9a7e15a0",
   "metadata": {},
   "outputs": [],
   "source": [
    "#import the standard scalar from python and set it up\n",
    "from sklearn.preprocessing import StandardScaler\n",
    "scaler=StandardScaler()\n",
    "\n",
    "#rescale the data\n",
    "mnist_train_features =scaler.fit_transform(mnist_train_features)\n",
    "mnist_test_features = scaler.fit_transform(mnist_test_features)"
   ]
  },
  {
   "cell_type": "code",
   "execution_count": 8,
   "id": "179aeb43",
   "metadata": {},
   "outputs": [],
   "source": [
    "#split the features and targets at the row that would be 90% \n",
    "splitted_features=np.split(mnist_train_features, [900])\n",
    "splitted_targets=np.split(mnist_train_targets, [900])\n",
    "\n",
    "#call the second array of the splitted array to get the 10% for validation \n",
    "mnist_validation_features = splitted_features[1]\n",
    "mnist_validation_targets = splitted_targets[1]\n",
    "\n",
    "#call the first array of the splitted array to get the 90% for training\n",
    "mnist_train_features = splitted_features[0]\n",
    "mnist_train_targets = splitted_targets[0]"
   ]
  },
  {
   "cell_type": "code",
   "execution_count": 9,
   "id": "c8355384",
   "metadata": {},
   "outputs": [],
   "source": [
    "class mnistClassification(torch.nn.Module):\n",
    "    \n",
    "    def __init__(self, input_dim, output_dim): \n",
    "        \n",
    "        super(mnistClassification, self).__init__()\n",
    "        \n",
    "        #first layer with 50 hidden nodes\n",
    "        self.layer1=torch.nn.Linear(input_dim, 50)\n",
    "        \n",
    "        #output layer\n",
    "        self.layer2=torch.nn.Linear(50, output_dim)\n",
    "    \n",
    "    \n",
    "        \n",
    "    def forward(self, x):\n",
    "        \n",
    "        #relu activation for input and output layers\n",
    "        x=nn.functional.relu(self.layer1(x))\n",
    "        x=nn.functional.relu(self.layer2(x))\n",
    "        out=x\n",
    "        \n",
    "        return out"
   ]
  },
  {
   "cell_type": "code",
   "execution_count": 10,
   "id": "1d668a01",
   "metadata": {},
   "outputs": [
    {
     "data": {
      "text/plain": [
       "mnistClassification(\n",
       "  (layer1): Linear(in_features=784, out_features=50, bias=True)\n",
       "  (layer2): Linear(in_features=50, out_features=10, bias=True)\n",
       ")"
      ]
     },
     "execution_count": 10,
     "metadata": {},
     "output_type": "execute_result"
    }
   ],
   "source": [
    "\n",
    "model = mnistClassification(input_dim=784 ,output_dim=10)\n",
    "\n",
    "# Define the learning rate and epoch \n",
    "learning_rate = 0.01\n",
    "epochs = 500\n",
    "batchsize = 1\n",
    "\n",
    "# Define loss function and optimizer\n",
    "loss_func = torch.nn.CrossEntropyLoss()\n",
    "optimizer = torch.optim.Adam(model.parameters(), lr = learning_rate)\n",
    "\n",
    "if torch.cuda.is_available():\n",
    "    model.cuda()\n",
    "\n",
    "model"
   ]
  },
  {
   "cell_type": "code",
   "execution_count": 11,
   "id": "638259ed",
   "metadata": {},
   "outputs": [],
   "source": [
    "\n",
    "\n",
    "train_loss_list = np.zeros((epochs,))\n",
    "validation_accuracy_list = np.zeros((epochs,))"
   ]
  },
  {
   "cell_type": "code",
   "execution_count": 12,
   "id": "02a5f590",
   "metadata": {},
   "outputs": [
    {
     "name": "stderr",
     "output_type": "stream",
     "text": [
      "100%|████████████████████████████████████████| 500/500 [00:01<00:00, 294.41it/s]\n"
     ]
    }
   ],
   "source": [
    "import tqdm\n",
    "\n",
    "mnist_train_features = torch.from_numpy(mnist_train_features).float()\n",
    "mnist_validation_features = torch.from_numpy(mnist_validation_features).float()\n",
    "mnist_test_features = torch.from_numpy(mnist_test_features).float()\n",
    "\n",
    "mnist_train_targets = torch.from_numpy(mnist_train_targets).long()\n",
    "mnist_validation_targets = torch.from_numpy(mnist_validation_targets).long()\n",
    "mnist_test_targets = torch.from_numpy(mnist_test_targets).long()\n",
    "\n",
    "\n",
    "\n",
    "for epoch in tqdm.trange(epochs):\n",
    "    \n",
    "    \n",
    "        #tracking the outputs of the data \n",
    "        train_outputs = model(mnist_train_features)\n",
    "        \n",
    "    \n",
    "        #computing the loss with actual values\n",
    "        loss=loss_func(train_outputs, mnist_train_targets)\n",
    "        \n",
    "        #empyting the gradient buffer\n",
    "        optimizer.zero_grad()\n",
    "        \n",
    "        #updating the loss list so that we can plot it\n",
    "        train_loss_list[epoch]=loss.item()\n",
    "        \n",
    "        #compute the changes that need to be made to the weights/biases\n",
    "        loss.backward()\n",
    "        \n",
    "        #updating the weights/biases\n",
    "        optimizer.step()\n",
    "        \n",
    "        \n",
    "        with torch.no_grad(): \n",
    "        \n",
    "        # tracking the validation data\n",
    "            validation_outputs = model(mnist_validation_features)\n",
    "          \n",
    "        \n",
    "            #true false classification of if the validation outputs match the actual data we have\n",
    "            correct = (torch.argmax(validation_outputs, dim=1) == \n",
    "                   mnist_validation_targets).type(torch.FloatTensor)\n",
    "            \n",
    "            #find the validation by taking the average accuracy \n",
    "            validation_accuracy_list[epoch] = correct.mean()\n",
    "        \n"
   ]
  },
  {
   "cell_type": "code",
   "execution_count": 13,
   "id": "afaeee6a",
   "metadata": {},
   "outputs": [],
   "source": [
    "\n",
    "\n",
    "import seaborn as sns"
   ]
  },
  {
   "cell_type": "code",
   "execution_count": 14,
   "id": "272fffea",
   "metadata": {},
   "outputs": [
    {
     "data": {
      "image/png": "[encoded data removed]",
      "text/plain": [
       "<Figure size 1200x600 with 2 Axes>"
      ]
     },
     "metadata": {},
     "output_type": "display_data"
    }
   ],
   "source": [
    "# Visualize training loss\n",
    "\n",
    "plt.figure(figsize = (12, 6))\n",
    "\n",
    "# Visualize training loss with respect to iterations (1 iteration -> single batch)\n",
    "plt.subplot(2, 1, 1)\n",
    "plt.plot(train_loss_list, linewidth = 3)\n",
    "plt.ylabel(\"training loss\")\n",
    "plt.xlabel(\"epochs\")\n",
    "sns.despine()\n",
    "\n",
    "# Visualize validation accuracy with respect to epochs\n",
    "plt.subplot(2, 1, 2)\n",
    "plt.plot(validation_accuracy_list, linewidth = 3, color = 'gold')\n",
    "plt.ylabel(\"validation accuracy\")\n",
    "sns.despine()"
   ]
  },
  {
   "cell_type": "code",
   "execution_count": 15,
   "id": "1e6c8e8a",
   "metadata": {},
   "outputs": [
    {
     "name": "stdout",
     "output_type": "stream",
     "text": [
      "Testing Accuracy: 92.00000166893005%\n"
     ]
    }
   ],
   "source": [
    "# Compute the testing accuracy \n",
    "\n",
    "with torch.no_grad():\n",
    "    \n",
    "    #find the predictions or outputs of the model\n",
    "    y_pred_test = model(mnist_test_features) \n",
    "    \n",
    "    # true/false measure to find the mean and turn that into a percentage for the accuracy \n",
    "    correct = (torch.argmax(y_pred_test, dim=1) == mnist_test_targets).type(torch.FloatTensor)\n",
    "    \n",
    "    print(\"Testing Accuracy: \" + str(correct.mean().numpy()*100) + '%')"
   ]
  },
  {
   "cell_type": "code",
   "execution_count": 16,
   "id": "b4f62683",
   "metadata": {
    "scrolled": false
   },
   "outputs": [
    {
     "data": {
      "image/png": "[encoded data removed]",
      "text/plain": [
       "<Figure size 1000x1000 with 1 Axes>"
      ]
     },
     "metadata": {},
     "output_type": "display_data"
    },
    {
     "data": {
      "image/png": "[encoded data removed]",
      "text/plain": [
       "<Figure size 1000x1000 with 1 Axes>"
      ]
     },
     "metadata": {},
     "output_type": "display_data"
    },
    {
     "data": {
      "image/png": "[encoded data removed]",
      "text/plain": [
       "<Figure size 1000x1000 with 1 Axes>"
      ]
     },
     "metadata": {},
     "output_type": "display_data"
    },
    {
     "data": {
      "image/png": "[encoded data removed]",
      "text/plain": [
       "<Figure size 1000x1000 with 1 Axes>"
      ]
     },
     "metadata": {},
     "output_type": "display_data"
    },
    {
     "data": {
      "image/png": "[encoded data removed]",
      "text/plain": [
       "<Figure size 1000x1000 with 1 Axes>"
      ]
     },
     "metadata": {},
     "output_type": "display_data"
    }
   ],
   "source": [
    "\n",
    "\n",
    "import math\n",
    "with torch.no_grad():\n",
    "    \n",
    "    #find our outputs of the model\n",
    "    predicted = model(mnist_test_features)\n",
    "    #convert into integer numbers so we have an actual predicted value\n",
    "    predicted = torch.argmax(predicted, dim=1).type(torch.int)\n",
    "    #find the indices of where the predictions don't match up with the targets\n",
    "    incorrect = np.where(predicted.numpy()!= mnist_test_targets.numpy())[0]\n",
    "    #take the first five incorrect values\n",
    "    incorrect_indices = incorrect[:5]\n",
    "\n",
    "    #calulate the rows needed for the subplot\n",
    "    num_rows = int(math.ceil(len(incorrect_indices) / 5.0))\n",
    "\n",
    "    #create a for loop to print each value running through the indices\n",
    "    for i, incorrect_idx in enumerate(incorrect_indices):\n",
    "        #the image that was incorrectly predicted\n",
    "        input_image = mnist_test_features[incorrect_idx]\n",
    "        #the predicted value according to the model\n",
    "        predicted_label = predicted[incorrect_idx]\n",
    "        #reshaping the matrix into a readable graphic\n",
    "        twod = input_image.reshape(1,28, 28)\n",
    "        plt.figure(figsize=(10, 10))\n",
    "        plt.subplot(num_rows, 5, i+1)\n",
    "        plt.imshow(twod[0], cmap='Greys')\n",
    "        plt.title(f\"Prediction: {predicted_label}\")  \n",
    "        "
   ]
  }
 ],
 "metadata": {
  "kernelspec": {
   "display_name": "Python 3 (ipykernel)",
   "language": "python",
   "name": "python3"
  },
  "language_info": {
   "codemirror_mode": {
    "name": "ipython",
    "version": 3
   },
   "file_extension": ".py",
   "mimetype": "text/x-python",
   "name": "python",
   "nbconvert_exporter": "python",
   "pygments_lexer": "ipython3",
   "version": "3.9.13"
  }
 },
 "nbformat": 4,
 "nbformat_minor": 5
}
